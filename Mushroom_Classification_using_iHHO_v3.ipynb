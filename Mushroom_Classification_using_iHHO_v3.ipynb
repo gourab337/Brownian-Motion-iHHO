{
  "cells": [
    {
      "cell_type": "markdown",
      "metadata": {
        "id": "view-in-github",
        "colab_type": "text"
      },
      "source": [
        "<a href=\"https://colab.research.google.com/github/gourab337/Brownian-Motion-iHHO/blob/main/Mushroom_Classification_using_iHHO_v3.ipynb\" target=\"_parent\"><img src=\"https://colab.research.google.com/assets/colab-badge.svg\" alt=\"Open In Colab\"/></a>"
      ]
    },
    {
      "cell_type": "markdown",
      "metadata": {
        "id": "g21s2m6AX07U"
      },
      "source": [
        "## **Mushroom Classification using improved Harris Hawk Optimisation Algorithm**\n",
        "Implementation of a novel control factor and Brownian motion-based improved Harris Hawk Optimisation for mushroom classification as part of Dr. Utkarsh Mahadeo Khaire's Optimization Techniques course at IIIT Dharwad (DS352)\n",
        "\n",
        "**References:**\n",
        "\n",
        "1. https://www.researchgate.net/publication/357750375_A_novel_control_factor_and_Brownian_motion-based_improved_Harris_Hawks_Optimization_for_feature_selection\n",
        "2. [Implementation of Harris Hawks Optimization (HHO) Algorithm to Solve Engineering Problems](https://drive.google.com/file/d/1tC_87zvc7qZP53QAA-k9oQU4J6S_3BkH/view?usp=sharing)\n",
        "\n",
        "**Code for original Harris Hawk Optimisation based on Levy Flight:** \n",
        "https://colab.research.google.com/drive/1rAA-XDewMAGn2I0JiSS1SX7E86fZPjZi?usp=sharing"
      ]
    },
    {
      "cell_type": "markdown",
      "source": [
        "**Important note:** Might encounter `TypeError: 'numpy.float128' object is not callable` in certain runtimes due to Google Colab's dependency architecture. To resolve the issue, execute the notebook in a new runtime (by reloading the site or creating a copy of the notebook and rexecuting. The later is done in order to resolve cache related issue.)"
      ],
      "metadata": {
        "id": "2Eu4-bsqM39D"
      }
    },
    {
      "cell_type": "markdown",
      "metadata": {
        "id": "17jJYH7OYbrL"
      },
      "source": [
        "Libraries & imports:"
      ]
    },
    {
      "cell_type": "code",
      "execution_count": null,
      "metadata": {
        "id": "-05dquoZRSV1"
      },
      "outputs": [],
      "source": [
        "import pandas as pd\n",
        "\n",
        "import warnings\n",
        "warnings.filterwarnings('ignore')\n",
        "\n",
        "from keras.callbacks import EarlyStopping, TensorBoard\n",
        "from keras.layers import Dense\n",
        "from keras.models import Sequential\n",
        "from sklearn.model_selection import train_test_split\n",
        "from sklearn.preprocessing import LabelEncoder, OneHotEncoder\n",
        "from sklearn.preprocessing import StandardScaler\n",
        "from sklearn.metrics import classification_report,accuracy_score,mean_squared_error,log_loss\n",
        "from tqdm import tqdm\n",
        "import numpy as np\n",
        "import random\n",
        "import pickle as pkl\n",
        "from tqdm import tqdm_notebook\n",
        "import math\n",
        "from math import pi,gamma,sin\n",
        "\n",
        "import matplotlib.pyplot as plt"
      ]
    },
    {
      "cell_type": "markdown",
      "metadata": {
        "id": "w1JxI1c4YffG"
      },
      "source": [
        "Taking dataset from Google Drive (public access) for easier usability:"
      ]
    },
    {
      "cell_type": "code",
      "execution_count": null,
      "metadata": {
        "id": "d8MF7VdTS44_"
      },
      "outputs": [],
      "source": [
        "!pip install -U -q PyDrive\n",
        "from pydrive.auth import GoogleAuth\n",
        "from pydrive.drive import GoogleDrive\n",
        "from google.colab import auth\n",
        "from oauth2client.client import GoogleCredentials\n",
        "\n",
        "auth.authenticate_user()\n",
        "gauth = GoogleAuth()\n",
        "gauth.credentials = GoogleCredentials.get_application_default()\n",
        "drive = GoogleDrive(gauth)"
      ]
    },
    {
      "cell_type": "markdown",
      "metadata": {
        "id": "fcjiMpixY2qG"
      },
      "source": [
        "Dataset:"
      ]
    },
    {
      "cell_type": "code",
      "execution_count": null,
      "metadata": {
        "id": "FSauudNvRefC"
      },
      "outputs": [],
      "source": [
        "link = \"https://drive.google.com/file/d/1NBJylQ1hAuG4uJDsoHvUWpDH-P63iNHj/view?usp=sharing\"\n",
        "a,b = link.split('/d/')\n",
        "id,d = b.split('/')\n",
        "downloaded = drive.CreateFile({'id':id}) \n",
        "downloaded.GetContentFile('mushrooms.csv')\n",
        "\n",
        "dataset = pd.read_csv('mushrooms.csv')\n",
        "y_train = dataset['class']\n",
        "x_train = dataset.drop(labels =['class'],axis=1)\n",
        "Bias =1\n",
        "UB = np.max(x_train,axis=0)\n",
        "LB = np.min(x_train,axis=0)\n",
        "ohe = OneHotEncoder()\n",
        "le = LabelEncoder()\n",
        "\n",
        "cols = x_train.columns.values\n",
        "for col in cols:\n",
        "    x_train[col] = le.fit_transform(x_train[col])\n",
        "\n",
        "y_train = le.fit_transform(y_train)\n",
        "\n",
        "ohe = OneHotEncoder()\n",
        "x_train = ohe.fit_transform(x_train).toarray()\n",
        "sc = StandardScaler()\n",
        "x_train = sc.fit_transform(x_train)\n",
        "\n",
        "\n",
        "x_train, x_test, y_train, y_test = train_test_split(x_train,y_train, test_size = 0.30, random_state = 42)\n",
        "x_valid, x_test, y_valid, y_test = train_test_split(x_test,y_test, test_size = 0.50, random_state = 42)"
      ]
    },
    {
      "cell_type": "markdown",
      "metadata": {
        "id": "kf7jQc9YECWn"
      },
      "source": [
        "Displaying the dataset and some information on the dataset: "
      ]
    },
    {
      "cell_type": "code",
      "execution_count": null,
      "metadata": {
        "colab": {
          "base_uri": "https://localhost:8080/"
        },
        "id": "puoOFSP2C0CB",
        "outputId": "e7e30c36-6dd6-42e0-dc3a-74e439464802"
      },
      "outputs": [
        {
          "output_type": "stream",
          "name": "stdout",
          "text": [
            "<class 'pandas.core.frame.DataFrame'>\n",
            "RangeIndex: 8124 entries, 0 to 8123\n",
            "Data columns (total 23 columns):\n",
            " #   Column                    Non-Null Count  Dtype \n",
            "---  ------                    --------------  ----- \n",
            " 0   class                     8124 non-null   object\n",
            " 1   cap-shape                 8124 non-null   object\n",
            " 2   cap-surface               8124 non-null   object\n",
            " 3   cap-color                 8124 non-null   object\n",
            " 4   bruises                   8124 non-null   object\n",
            " 5   odor                      8124 non-null   object\n",
            " 6   gill-attachment           8124 non-null   object\n",
            " 7   gill-spacing              8124 non-null   object\n",
            " 8   gill-size                 8124 non-null   object\n",
            " 9   gill-color                8124 non-null   object\n",
            " 10  stalk-shape               8124 non-null   object\n",
            " 11  stalk-root                8124 non-null   object\n",
            " 12  stalk-surface-above-ring  8124 non-null   object\n",
            " 13  stalk-surface-below-ring  8124 non-null   object\n",
            " 14  stalk-color-above-ring    8124 non-null   object\n",
            " 15  stalk-color-below-ring    8124 non-null   object\n",
            " 16  veil-type                 8124 non-null   object\n",
            " 17  veil-color                8124 non-null   object\n",
            " 18  ring-number               8124 non-null   object\n",
            " 19  ring-type                 8124 non-null   object\n",
            " 20  spore-print-color         8124 non-null   object\n",
            " 21  population                8124 non-null   object\n",
            " 22  habitat                   8124 non-null   object\n",
            "dtypes: object(23)\n",
            "memory usage: 1.4+ MB\n",
            "     class cap-shape cap-surface cap-color bruises odor gill-attachment  \\\n",
            "0        p         x           s         n       t    p               f   \n",
            "1        e         x           s         y       t    a               f   \n",
            "2        e         b           s         w       t    l               f   \n",
            "3        p         x           y         w       t    p               f   \n",
            "4        e         x           s         g       f    n               f   \n",
            "...    ...       ...         ...       ...     ...  ...             ...   \n",
            "8119     e         k           s         n       f    n               a   \n",
            "8120     e         x           s         n       f    n               a   \n",
            "8121     e         f           s         n       f    n               a   \n",
            "8122     p         k           y         n       f    y               f   \n",
            "8123     e         x           s         n       f    n               a   \n",
            "\n",
            "     gill-spacing gill-size gill-color  ... stalk-surface-below-ring  \\\n",
            "0               c         n          k  ...                        s   \n",
            "1               c         b          k  ...                        s   \n",
            "2               c         b          n  ...                        s   \n",
            "3               c         n          n  ...                        s   \n",
            "4               w         b          k  ...                        s   \n",
            "...           ...       ...        ...  ...                      ...   \n",
            "8119            c         b          y  ...                        s   \n",
            "8120            c         b          y  ...                        s   \n",
            "8121            c         b          n  ...                        s   \n",
            "8122            c         n          b  ...                        k   \n",
            "8123            c         b          y  ...                        s   \n",
            "\n",
            "     stalk-color-above-ring stalk-color-below-ring veil-type veil-color  \\\n",
            "0                         w                      w         p          w   \n",
            "1                         w                      w         p          w   \n",
            "2                         w                      w         p          w   \n",
            "3                         w                      w         p          w   \n",
            "4                         w                      w         p          w   \n",
            "...                     ...                    ...       ...        ...   \n",
            "8119                      o                      o         p          o   \n",
            "8120                      o                      o         p          n   \n",
            "8121                      o                      o         p          o   \n",
            "8122                      w                      w         p          w   \n",
            "8123                      o                      o         p          o   \n",
            "\n",
            "     ring-number ring-type spore-print-color population habitat  \n",
            "0              o         p                 k          s       u  \n",
            "1              o         p                 n          n       g  \n",
            "2              o         p                 n          n       m  \n",
            "3              o         p                 k          s       u  \n",
            "4              o         e                 n          a       g  \n",
            "...          ...       ...               ...        ...     ...  \n",
            "8119           o         p                 b          c       l  \n",
            "8120           o         p                 b          v       l  \n",
            "8121           o         p                 b          c       l  \n",
            "8122           o         e                 w          v       l  \n",
            "8123           o         p                 o          c       l  \n",
            "\n",
            "[8124 rows x 23 columns]\n"
          ]
        }
      ],
      "source": [
        "dataset.info(verbose=True)\n",
        "print(dataset)"
      ]
    },
    {
      "cell_type": "markdown",
      "metadata": {
        "id": "H-pEoapYY7im"
      },
      "source": [
        "Artificial Neural Network Implementation: "
      ]
    },
    {
      "cell_type": "code",
      "execution_count": null,
      "metadata": {
        "id": "dHHUe1ToRj9c"
      },
      "outputs": [],
      "source": [
        "def sigmoid(x):\n",
        "    return 1/(1 + np.exp(-x)) \n",
        "\n",
        "def relu(x):\n",
        "    return np.maximum(0, x)\n",
        "\n",
        "def forward(x, w, activation):\n",
        "    return activation(np.matmul(x, w))\n",
        "\n",
        "def accuracy_fn(y, y_hat):\n",
        "    return (np.where(y == y_hat)[0].size / y_hat.size)\n",
        "\n",
        "def predict(x, y_hat, weights, activation):\n",
        "    predictions = np.zeros(shape=(x.shape[0]))\n",
        "    \n",
        "    for idx in range(x.shape[0]):\n",
        "        r1 = x[idx, :]\n",
        "        for curr_weights in weights:\n",
        "            r1 = forward(r1, curr_weights, activation)\n",
        "        predictions[idx] = np.where(r1 == np.max(r1))[0][0]\n",
        "\n",
        "    accuracy = accuracy_fn(predictions, y_hat)\n",
        "    return accuracy, predictions\n",
        "    \n",
        "def f(x, y_hat, weights, activation):\n",
        "    accuracy = np.empty(shape=(weights.shape[0]))\n",
        "    for idx in range(weights.shape[0]):\n",
        "        accuracy[idx], _ = predict(x, y_hat, weights[idx, :], activation)\n",
        "    return accuracy"
      ]
    },
    {
      "cell_type": "markdown",
      "metadata": {
        "id": "hwGm79W5ZA4q"
      },
      "source": [
        "Vector-Matrix Manipulations"
      ]
    },
    {
      "cell_type": "code",
      "execution_count": null,
      "metadata": {
        "id": "3NUpX_biRo6D"
      },
      "outputs": [],
      "source": [
        "def mat_to_vector(mat_pop_weights):\n",
        "    weights_vector = []\n",
        "    for idx in range(mat_pop_weights.shape[0]):\n",
        "        curr_vector = []\n",
        "        for layer_idx in range(mat_pop_weights.shape[1]):\n",
        "            vector_weights = np.reshape(mat_pop_weights[idx, layer_idx], newshape=(mat_pop_weights[idx, layer_idx].size))\n",
        "            curr_vector.extend(vector_weights)\n",
        "        weights_vector.append(curr_vector)\n",
        "    return np.array(weights_vector)\n",
        "\n",
        "\n",
        "def vector_to_mat(vector_weights, mat_pop_weights):\n",
        "    mat_weights = []\n",
        "    for idx in range(mat_pop_weights.shape[0]):\n",
        "        start = 0\n",
        "        end = 0\n",
        "        for layer_idx in range(mat_pop_weights.shape[1]):\n",
        "            end = end + mat_pop_weights[idx, layer_idx].size\n",
        "            curr_vector = vector_weights[idx, start:end]\n",
        "            mat_layer_weights = np.reshape(curr_vector, newshape=(mat_pop_weights[idx, layer_idx].shape))\n",
        "            mat_weights.append(mat_layer_weights)\n",
        "            start = end\n",
        "    return np.reshape(mat_weights, newshape=mat_pop_weights.shape)"
      ]
    },
    {
      "cell_type": "markdown",
      "metadata": {
        "id": "uj-4BbY8ZM15"
      },
      "source": [
        "Improved Harris Hawk Optimisation: "
      ]
    },
    {
      "cell_type": "code",
      "execution_count": null,
      "metadata": {
        "id": "WHOl3y3TRvaK"
      },
      "outputs": [],
      "source": [
        "def HH(h1, h2):\n",
        "    ub = np.uint32((h2*h1.shape[1]))\n",
        "    lb = np.array(random.sample(range(0, h1.shape[1]), ub))\n",
        "    \n",
        "    for idx in range(h1.shape[0]):\n",
        "        rand_Hawk = np.random.uniform(-1.0, 1.0, 1)\n",
        "        h1[idx, lb] = h1[idx, lb] + rand_Hawk\n",
        "    \n",
        "    return h1\n",
        "\n",
        "def error(m,n):\n",
        "  Y_predF = []\n",
        "  for k in range(0, m.shape[0]):\n",
        "    perceptron = np.dot(m[k],n) + Bias\n",
        "    sigmoid = 1.0/(1.0 + np.exp(-perceptron, dtype=np.float128))\n",
        "    Y_predF.append(sigmoid)\n",
        "  return log_loss(y_train,Y_predF)\n",
        "\n",
        "def Levy(dim):\n",
        "  beta=1.5\n",
        "  sigma=(math.gamma(1+beta)*math.sin(math.pi*beta/2)/(math.gamma((1+beta)/2)*beta*2**((beta-1)/2)))**(1/beta) \n",
        "  U = 0.01*np.random.randn(dim)*sigma\n",
        "  V = np.random.randn(dim)\n",
        "  zz = np.power(np.absolute(V),(1/beta))\n",
        "  step = np.divide(U,zz)\n",
        "  return step\n",
        "\n",
        "def levy(n1,Fitness,beta1):\n",
        "    z = np.empty((beta1, n1.shape[1]))\n",
        "    for sigma1 in range(beta1):\n",
        "        num1 = np.where(Fitness == np.max(Fitness))\n",
        "        num1 = num1[0][0]\n",
        "        z[sigma1, :] = n1[num1, :]\n",
        "        Fitness[num1] = -99\n",
        "    return z\n",
        "\n",
        "def Brown(V):\n",
        "  step = 1/np.sqrt(2*np.pi)*np.exp(-V**2/2)\n",
        "  return step\n",
        "\n",
        "def classification(z, positions):\n",
        "    u = np.empty(positions)\n",
        "    v = np.uint32(positions[1]/2)\n",
        "\n",
        "    for k in range(positions[0]):\n",
        "        \n",
        "        p1 = k%z.shape[0]\n",
        "        p2 = (k+1)%z.shape[0]\n",
        "        \n",
        "        u[k, 0:v] = z[p1, 0:v]\n",
        "        u[k, v:] = z[p2, v:]\n",
        "        \n",
        "    return u\n"
      ]
    },
    {
      "cell_type": "markdown",
      "metadata": {
        "id": "mQPWcyXpaAPd"
      },
      "source": [
        "Parameters: "
      ]
    },
    {
      "cell_type": "code",
      "execution_count": null,
      "metadata": {
        "id": "0v0L58_UR7Xj"
      },
      "outputs": [],
      "source": [
        "dim = x_train.shape[1]  \n",
        "Leader_pos = np.zeros(dim) \n",
        "Leader_score = math.inf\n",
        "SearchAgents_no = 8\n",
        "bias = 4\n",
        "Max_iter = 100\n",
        "h2 = 0.20\n",
        "stepsize = np.zeros((SearchAgents_no,dim))\n",
        "Convergence_curve = np.zeros(Max_iter)\n",
        "Train_Accuracy = np.zeros(Max_iter)\n",
        "Test_Accuracy = np.zeros(Max_iter)\n",
        "ub = np.max(x_train,axis=0)\n",
        "lb = np.min(x_train,axis=0)\n",
        "Positions = np.zeros((SearchAgents_no,dim))\n",
        "input_shape = x_train.shape[1]\n",
        "output_shape = len(np.unique(y_train))"
      ]
    },
    {
      "cell_type": "markdown",
      "metadata": {
        "id": "eaiofI28aFYu"
      },
      "source": [
        "Initial Weights: "
      ]
    },
    {
      "cell_type": "code",
      "execution_count": null,
      "metadata": {
        "id": "HYjTwBecSAig"
      },
      "outputs": [],
      "source": [
        "initial_weights = []\n",
        "for curr_sol in np.arange(0, SearchAgents_no):\n",
        "    \n",
        "    w1 = np.random.uniform(low=-0.1, high=0.1, size=(input_shape, 128))\n",
        "    w2 = np.random.uniform(low=-0.1, high=0.1, size=(128, 64))\n",
        "    w3 = np.random.uniform(low=-0.1, high=0.1,size=(64, output_shape))\n",
        "\n",
        "    initial_weights.append(np.array([w1, w2, w3]))"
      ]
    },
    {
      "cell_type": "code",
      "execution_count": null,
      "metadata": {
        "id": "-_rWT2wCSCnB"
      },
      "outputs": [],
      "source": [
        "weights_mat = np.array(initial_weights)\n",
        "weights_vector = mat_to_vector(weights_mat)\n",
        "\n",
        "best_outputs = []\n",
        "accuracies = np.empty(shape=(Max_iter))"
      ]
    },
    {
      "cell_type": "markdown",
      "metadata": {
        "id": "QUeuY1NvaJOt"
      },
      "source": [
        "Training:"
      ]
    },
    {
      "cell_type": "code",
      "execution_count": null,
      "metadata": {
        "colab": {
          "base_uri": "https://localhost:8080/"
        },
        "id": "_itgn1UBSEhS",
        "outputId": "64919f5d-39b8-4e04-8885-eea4648687e2"
      },
      "outputs": [
        {
          "output_type": "stream",
          "name": "stderr",
          "text": [
            "100%|██████████| 100/100 [05:30<00:00,  3.30s/it]\n"
          ]
        }
      ],
      "source": [
        "for t in tqdm(range(Max_iter)):\n",
        "\n",
        "    # vector to matrix\n",
        "    weights_mat = vector_to_mat(weights_vector, weights_mat)\n",
        "    fit = f(x_train, y_train, weights_mat, activation=sigmoid)\n",
        "    accuracies[t] = fit[0]\n",
        "    z = levy(weights_vector, fit.copy(), bias)\n",
        "    h1 = classification(z, positions=(weights_vector.shape[0]-z.shape[0], weights_vector.shape[1]))\n",
        "    pos = HH(h1, h2=h2)\n",
        "    weights_vector[0:z.shape[0], :] = z\n",
        "    weights_vector[z.shape[0]:, :] = pos"
      ]
    },
    {
      "cell_type": "code",
      "execution_count": null,
      "metadata": {
        "id": "KMAF-ciSWAcV",
        "outputId": "f2f83ae5-cfec-4d8b-915c-8afe8d352d4a",
        "colab": {
          "base_uri": "https://localhost:8080/"
        }
      },
      "outputs": [
        {
          "output_type": "stream",
          "name": "stderr",
          "text": [
            "100%|██████████| 8/8 [00:05<00:00,  1.47it/s]\n"
          ]
        }
      ],
      "source": [
        "E1 = 2 * (1 - (t + 1) * 1.0 / Max_iter)       # factor to show the decreasing energy of rabbit\n",
        "SearchAgents = 8\n",
        "for i in tqdm(range(0, SearchAgents)):\n",
        "  E0=2*random.random()-1  # -1<E0<1\n",
        "  Escaping_Energy=E1*(E0)  # escaping energy of rabbit Eq. (3) in the paper\n",
        "\n",
        "  # Escaping_Energy=E1  # New parameter \n",
        "\n",
        "  # -------- Exploration phase Eq. (1) in paper -------------------\n",
        "  if abs(Escaping_Energy)>=1:\n",
        "  # Harris' hawks perch randomly based on 2 strategy:\n",
        "    q = random.random()\n",
        "    rand_Hawk_index = math.floor(SearchAgents*random.random())\n",
        "    X_rand = Positions[rand_Hawk_index, :]\n",
        "    if q>=0.5:\n",
        "    # perch based on other family members\n",
        "      Positions[i,:]=X_rand-random.random()*abs(X_rand-2*random.random()*Positions[i,:])\n",
        "\n",
        "    elif q<0.5:\n",
        "          #perch on a random tall tree (random site inside group's home range)\n",
        "          #Positions[i,:]=(Leader_pos - Positions.mean(0))-random.random()*((UB-LB)*random.random()+LB)\n",
        "      Positions[i,:]=X_rand-random.random()*abs(X_rand-2*random.random()*Positions[i,:])\n",
        "\n",
        "  # ----------Exploitation phase-------------------------------------\n",
        "  elif abs(Escaping_Energy)<1:\n",
        "          # Attacking the rabbit using 4 strategies regarding the behavior of the rabbit\n",
        "          # phase 1: ----- surprise pounce (seven kills) ----------\n",
        "          # surprise pounce (seven kills): multiple, short rapid dives by different hawks\n",
        "\n",
        "    r=random.random() # probablity of each event\n",
        "                \n",
        "    if r>=0.5 and abs(Escaping_Energy)<0.5: # Hard besiege Eq. (6) in paper\n",
        "            Positions[i,:]=(Leader_pos)-Escaping_Energy*abs(Leader_pos-Positions[i,:])\n",
        "\n",
        "    if r>=0.5 and abs(Escaping_Energy)>=0.5:  # Soft besiege Eq. (4) in paper\n",
        "            Jump_strength=2*(1- random.random()) # random jump strength of the rabbit\n",
        "            Positions[i,:]=(Leader_pos-Positions[i,:])-Escaping_Energy*abs(Jump_strength*Leader_pos-Positions[i,:])\n",
        "\n",
        "    if r<0.5 and abs(Escaping_Energy)>=0.5: # Soft besiege Eq. (10) in paper\n",
        "            #rabbit try to escape by many zigzag deceptive motions\n",
        "            Jump_strength=2*(1-random.random())\n",
        "            X1=Leader_pos-Escaping_Energy*abs(Jump_strength*Leader_pos-Positions[i,:])\n",
        "\n",
        "    else: # hawks perform levy-based short rapid dives around the rabbit\n",
        "              # X2=X1+np.multiply(np.random.randn(dim),Levy(dim))\n",
        "              # stepsize = np.multiply(Brown(X1),(Leader_pos-np.multiply(Brown(X1),Positions[i])))\n",
        "              X2=Positions[i]+0.5*np.multiply(np.random.rand(Positions.shape[1]),stepsize)\n",
        "              # X2=X1+np.multiply(np.random.randn(dim),Brown(dim))\n",
        "              # X2 = numpy.clip(X2, lb, ub)\n",
        "          \n",
        "    if r<0.5 and abs(Escaping_Energy)<0.5:   # Hard besiege Eq. (11) in paper\n",
        "            Jump_strength=2*(1-random.random())\n",
        "            X1=Leader_pos-Escaping_Energy*abs(Jump_strength*Leader_pos-Positions.mean(0))\n",
        "\n",
        "    else: # Perform levy-based short rapid dives around the rabbit\n",
        "              # X2=X1+np.multiply(np.random.randn(dim),Levy(dim))\n",
        "              # stepsize = np.multiply(Brown(X1),(Leader_pos-np.multiply(Brown(X1),Positions[i])))\n",
        "              X2=Positions[i]+0.5*np.multiply(np.random.rand(Positions.shape[1]),stepsize)\n",
        "              # X2=X1+np.multiply(np.random.randn(dim),Brown(dim))\n",
        "              # X2 = np.clip(X2, lb, ub)\n",
        "          \n",
        "    for i in range(0, SearchAgents):\n",
        "      Y_pred = []\n",
        "      for j in range(0, x_train.shape[0]):\n",
        "        perceptron = np.dot(x_train[j],Positions[i]) + Bias\n",
        "        sigmoid = 1.0/(1.0 + np.exp(-perceptron, dtype=np.float128))\n",
        "        Y_pred.append(sigmoid)\n",
        "      fitness = log_loss(y_train,Y_pred)\n",
        "\n",
        "  # Update the leader\n",
        "      if fitness<Leader_score: # Change this to > for maximization problem\n",
        "        Leader_score=fitness; # Update alpha\n",
        "        Leader_pos=Positions[i,:].copy() # copy current whale position into the leader position\n",
        "\n",
        "    Convergence_curve[t]= Leader_score"
      ]
    },
    {
      "cell_type": "code",
      "execution_count": null,
      "metadata": {
        "colab": {
          "base_uri": "https://localhost:8080/"
        },
        "id": "z8eeZk475qwx",
        "outputId": "cdd44a3e-4f09-437d-db1f-f51c3fdfa761"
      },
      "outputs": [
        {
          "output_type": "stream",
          "name": "stdout",
          "text": [
            "[[-0.24272523 -0.02219484 -0.79620985 ... -0.40484176  4.59086996\n",
            "  -0.15558197]\n",
            " [-0.24272523 -0.02219484 -0.79620985 ... -0.40484176 -0.21782364\n",
            "  -0.15558197]\n",
            " [-0.24272523 -0.02219484 -0.79620985 ... -0.40484176 -0.21782364\n",
            "  -0.15558197]\n",
            " ...\n",
            " [-0.24272523 -0.02219484  1.2559503  ...  2.47010093 -0.21782364\n",
            "  -0.15558197]\n",
            " [-0.24272523 -0.02219484 -0.79620985 ...  2.47010093 -0.21782364\n",
            "  -0.15558197]\n",
            " [-0.24272523 -0.02219484 -0.79620985 ... -0.40484176 -0.21782364\n",
            "  -0.15558197]] [[-0.24272523 -0.02219484 -0.79620985 ... -0.40484176 -0.21782364\n",
            "  -0.15558197]\n",
            " [-0.24272523 -0.02219484  1.2559503  ... -0.40484176 -0.21782364\n",
            "  -0.15558197]\n",
            " [-0.24272523 -0.02219484 -0.79620985 ... -0.40484176 -0.21782364\n",
            "  -0.15558197]\n",
            " ...\n",
            " [-0.24272523 -0.02219484  1.2559503  ...  2.47010093 -0.21782364\n",
            "  -0.15558197]\n",
            " [-0.24272523 -0.02219484  1.2559503  ... -0.40484176 -0.21782364\n",
            "  -0.15558197]\n",
            " [-0.24272523 -0.02219484 -0.79620985 ...  2.47010093 -0.21782364\n",
            "  -0.15558197]] [1 0 1 ... 0 1 0] [1 0 1 ... 1 0 1]      class cap-shape cap-surface cap-color bruises odor gill-attachment  \\\n",
            "0        p         x           s         n       t    p               f   \n",
            "1        e         x           s         y       t    a               f   \n",
            "2        e         b           s         w       t    l               f   \n",
            "3        p         x           y         w       t    p               f   \n",
            "4        e         x           s         g       f    n               f   \n",
            "...    ...       ...         ...       ...     ...  ...             ...   \n",
            "8119     e         k           s         n       f    n               a   \n",
            "8120     e         x           s         n       f    n               a   \n",
            "8121     e         f           s         n       f    n               a   \n",
            "8122     p         k           y         n       f    y               f   \n",
            "8123     e         x           s         n       f    n               a   \n",
            "\n",
            "     gill-spacing gill-size gill-color  ... stalk-surface-below-ring  \\\n",
            "0               c         n          k  ...                        s   \n",
            "1               c         b          k  ...                        s   \n",
            "2               c         b          n  ...                        s   \n",
            "3               c         n          n  ...                        s   \n",
            "4               w         b          k  ...                        s   \n",
            "...           ...       ...        ...  ...                      ...   \n",
            "8119            c         b          y  ...                        s   \n",
            "8120            c         b          y  ...                        s   \n",
            "8121            c         b          n  ...                        s   \n",
            "8122            c         n          b  ...                        k   \n",
            "8123            c         b          y  ...                        s   \n",
            "\n",
            "     stalk-color-above-ring stalk-color-below-ring veil-type veil-color  \\\n",
            "0                         w                      w         p          w   \n",
            "1                         w                      w         p          w   \n",
            "2                         w                      w         p          w   \n",
            "3                         w                      w         p          w   \n",
            "4                         w                      w         p          w   \n",
            "...                     ...                    ...       ...        ...   \n",
            "8119                      o                      o         p          o   \n",
            "8120                      o                      o         p          n   \n",
            "8121                      o                      o         p          o   \n",
            "8122                      w                      w         p          w   \n",
            "8123                      o                      o         p          o   \n",
            "\n",
            "     ring-number ring-type spore-print-color population habitat  \n",
            "0              o         p                 k          s       u  \n",
            "1              o         p                 n          n       g  \n",
            "2              o         p                 n          n       m  \n",
            "3              o         p                 k          s       u  \n",
            "4              o         e                 n          a       g  \n",
            "...          ...       ...               ...        ...     ...  \n",
            "8119           o         p                 b          c       l  \n",
            "8120           o         p                 b          v       l  \n",
            "8121           o         p                 b          c       l  \n",
            "8122           o         e                 w          v       l  \n",
            "8123           o         p                 o          c       l  \n",
            "\n",
            "[8124 rows x 23 columns]\n"
          ]
        }
      ],
      "source": [
        "print(x_train,x_test,y_train,y_test,dataset)"
      ]
    },
    {
      "cell_type": "markdown",
      "metadata": {
        "id": "DM51hZ5haM7p"
      },
      "source": [
        "Analysis:"
      ]
    },
    {
      "cell_type": "code",
      "execution_count": null,
      "metadata": {
        "colab": {
          "base_uri": "https://localhost:8080/",
          "height": 286
        },
        "id": "FY_g0wNISMt0",
        "outputId": "7a9dfe70-57f2-4d7d-d0d1-cfc750ce9c2f"
      },
      "outputs": [
        {
          "data": {
            "image/png": "[encoded data removed]",
            "text/plain": [
              "<Figure size 432x288 with 1 Axes>"
            ]
          },
          "metadata": {},
          "output_type": "display_data"
        }
      ],
      "source": [
        "plt.plot(accuracies)\n",
        "plt.xlabel(\"Iteration\", fontsize=15)\n",
        "plt.ylabel(\"Fitness\", fontsize=15)\n",
        "plt.xticks(np.arange(0, Max_iter+1, 100))\n",
        "plt.yticks(np.arange(0, 1, 0.1))\n",
        "plt.show()"
      ]
    },
    {
      "cell_type": "markdown",
      "metadata": {
        "id": "92kACa9Dae6Z"
      },
      "source": [
        "Test predictions:"
      ]
    },
    {
      "cell_type": "code",
      "execution_count": null,
      "metadata": {
        "colab": {
          "base_uri": "https://localhost:8080/"
        },
        "id": "bji4cIG9SOxH",
        "outputId": "b6aac43d-fe09-4a18-825e-ec6943f03b9e"
      },
      "outputs": [
        {
          "name": "stdout",
          "output_type": "stream",
          "text": [
            "Accuracy of the best solution is :  0.8810500410172273\n"
          ]
        }
      ],
      "source": [
        "weights_mat = vector_to_mat(weights_vector, weights_mat)\n",
        "best_weights = weights_mat [0, :]\n",
        "acc, predictions = predict(x_test, y_test, best_weights, sigmoid)\n",
        "print(\"Accuracy of the best solution is : \", acc)"
      ]
    }
  ],
  "metadata": {
    "colab": {
      "collapsed_sections": [],
      "name": "Mushroom Classification using iHHO v3.ipynb",
      "provenance": [],
      "authorship_tag": "ABX9TyMqjE9j+I9wlTl9mfqiMmUy",
      "include_colab_link": true
    },
    "kernelspec": {
      "display_name": "Python 3",
      "name": "python3"
    },
    "language_info": {
      "name": "python"
    }
  },
  "nbformat": 4,
  "nbformat_minor": 0
}