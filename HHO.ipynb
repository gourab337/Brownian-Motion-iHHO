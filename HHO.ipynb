{
  "nbformat": 4,
  "nbformat_minor": 0,
  "metadata": {
    "colab": {
      "name": "HHO.ipynb",
      "provenance": [],
      "authorship_tag": "ABX9TyMhMPDRMq4xOWfCpyTro9nJ",
      "include_colab_link": true
    },
    "kernelspec": {
      "name": "python3",
      "display_name": "Python 3"
    },
    "language_info": {
      "name": "python"
    }
  },
  "cells": [
    {
      "cell_type": "markdown",
      "metadata": {
        "id": "view-in-github",
        "colab_type": "text"
      },
      "source": [
        "<a href=\"https://colab.research.google.com/github/gourab337/Brownian-Motion-iHHO/blob/main/HHO.ipynb\" target=\"_parent\"><img src=\"https://colab.research.google.com/assets/colab-badge.svg\" alt=\"Open In Colab\"/></a>"
      ]
    },
    {
      "cell_type": "code",
      "source": [
        "!pip install solution"
      ],
      "metadata": {
        "colab": {
          "base_uri": "https://localhost:8080/"
        },
        "id": "N23QM3gstYaj",
        "outputId": "6f013d91-3382-4e5f-cf36-69634e5384a8"
      },
      "execution_count": null,
      "outputs": [
        {
          "output_type": "stream",
          "name": "stdout",
          "text": [
            "Requirement already satisfied: solution in /usr/local/lib/python3.7/dist-packages (5.4.0)\n",
            "Requirement already satisfied: pytz in /usr/local/lib/python3.7/dist-packages (from solution) (2022.1)\n",
            "Requirement already satisfied: markupsafe in /usr/local/lib/python3.7/dist-packages (from solution) (2.0.1)\n"
          ]
        }
      ]
    },
    {
      "cell_type": "code",
      "execution_count": null,
      "metadata": {
        "id": "A6TYhp_qY25v"
      },
      "outputs": [],
      "source": [
        "import random\n",
        "import numpy\n",
        "import math\n",
        "import solution\n",
        "import time"
      ]
    },
    {
      "cell_type": "code",
      "source": [
        "def HHO(objf,lb,ub,dim,SearchAgents_no,Max_iter):\n",
        "\n",
        "    #dim=30\n",
        "    #SearchAgents_no=50\n",
        "    #lb=-100\n",
        "    #ub=100\n",
        "    #Max_iter=500\n",
        "        \n",
        "    \n",
        "    # initialize the location and Energy of the rabbit\n",
        "    Rabbit_Location=numpy.zeros(dim)\n",
        "    Rabbit_Energy=float(\"inf\")  #change this to -inf for maximization problems\n",
        "    \n",
        "    if not isinstance(lb, list):\n",
        "        lb = [lb for _ in range(dim)]\n",
        "        ub = [ub for _ in range(dim)]\n",
        "    lb = numpy.asarray(lb)\n",
        "    ub = numpy.asarray(ub)\n",
        "         \n",
        "    #Initialize the locations of Harris' hawks\n",
        "    X=numpy.asarray([x*(ub-lb)+lb for x in numpy.random.uniform(0,1,(SearchAgents_no, dim))])\n",
        "    \n",
        "    #Initialize convergence\n",
        "    convergence_curve=numpy.zeros(Max_iter)\n",
        "    \n",
        "    \n",
        "    ############################\n",
        "    s=solution()\n",
        "\n",
        "    print(\"HHO is now tackling  \\\"\"+objf.__name__+\"\\\"\")    \n",
        "\n",
        "    timerStart=time.time() \n",
        "    s.startTime=time.strftime(\"%Y-%m-%d-%H-%M-%S\")\n",
        "    ############################\n",
        "    \n",
        "    t=0  # Loop counter\n",
        "    \n",
        "    # Main loop\n",
        "    while t<Max_iter:\n",
        "        for i in range(0,SearchAgents_no):\n",
        "            \n",
        "            # Check boundries\n",
        "                      \n",
        "            X[i,:]=numpy.clip(X[i,:], lb, ub)\n",
        "            \n",
        "            # fitness of locations\n",
        "            fitness=objf(X[i,:])\n",
        "            \n",
        "            # Update the location of Rabbit\n",
        "            if fitness<Rabbit_Energy: # Change this to > for maximization problem\n",
        "                Rabbit_Energy=fitness \n",
        "                Rabbit_Location=X[i,:].copy() \n",
        "            \n",
        "        E1=2*(1-(t/Max_iter)) # factor to show the decreaing energy of rabbit    \n",
        "        \n",
        "        # Update the location of Harris' hawks \n",
        "        for i in range(0,SearchAgents_no):\n",
        "\n",
        "            E0=2*random.random()-1  # -1<E0<1\n",
        "            Escaping_Energy=E1*(E0)  # escaping energy of rabbit Eq. (3) in the paper\n",
        "\n",
        "            # -------- Exploration phase Eq. (1) in paper -------------------\n",
        "\n",
        "            if abs(Escaping_Energy)>=1:\n",
        "                #Harris' hawks perch randomly based on 2 strategy:\n",
        "                q = random.random()\n",
        "                rand_Hawk_index = math.floor(SearchAgents_no*random.random())\n",
        "                X_rand = X[rand_Hawk_index, :]\n",
        "                if q<0.5:\n",
        "                    # perch based on other family members\n",
        "                    X[i,:]=X_rand-random.random()*abs(X_rand-2*random.random()*X[i,:])\n",
        "\n",
        "                elif q>=0.5:\n",
        "                    #perch on a random tall tree (random site inside group's home range)\n",
        "                    X[i,:]=(Rabbit_Location - X.mean(0))-random.random()*((ub-lb)*random.random()+lb)\n",
        "\n",
        "            # -------- Exploitation phase -------------------\n",
        "            elif abs(Escaping_Energy)<1:\n",
        "                #Attacking the rabbit using 4 strategies regarding the behavior of the rabbit\n",
        "\n",
        "                #phase 1: ----- surprise pounce (seven kills) ----------\n",
        "                #surprise pounce (seven kills): multiple, short rapid dives by different hawks\n",
        "\n",
        "                r=random.random() # probablity of each event\n",
        "                \n",
        "                if r>=0.5 and abs(Escaping_Energy)<0.5: # Hard besiege Eq. (6) in paper\n",
        "                    X[i,:]=(Rabbit_Location)-Escaping_Energy*abs(Rabbit_Location-X[i,:])\n",
        "\n",
        "                if r>=0.5 and abs(Escaping_Energy)>=0.5:  # Soft besiege Eq. (4) in paper\n",
        "                    Jump_strength=2*(1- random.random()) # random jump strength of the rabbit\n",
        "                    X[i,:]=(Rabbit_Location-X[i,:])-Escaping_Energy*abs(Jump_strength*Rabbit_Location-X[i,:])\n",
        "                \n",
        "                #phase 2: --------performing team rapid dives (leapfrog movements)----------\n",
        "\n",
        "                if r<0.5 and abs(Escaping_Energy)>=0.5: # Soft besiege Eq. (10) in paper\n",
        "                    #rabbit try to escape by many zigzag deceptive motions\n",
        "                    Jump_strength=2*(1-random.random())\n",
        "                    X1=Rabbit_Location-Escaping_Energy*abs(Jump_strength*Rabbit_Location-X[i,:])\n",
        "                    X1 = numpy.clip(X1, lb, ub)\n",
        "\n",
        "                    if objf(X1)< fitness: # improved move?\n",
        "                        X[i,:] = X1.copy()\n",
        "                    else: # hawks perform levy-based short rapid dives around the rabbit\n",
        "                        X2=Rabbit_Location-Escaping_Energy*abs(Jump_strength*Rabbit_Location-X[i,:])+numpy.multiply(numpy.random.randn(dim),Levy(dim))\n",
        "                        X2 = numpy.clip(X2, lb, ub)\n",
        "                        if objf(X2)< fitness:\n",
        "                            X[i,:] = X2.copy()\n",
        "                if r<0.5 and abs(Escaping_Energy)<0.5:   # Hard besiege Eq. (11) in paper\n",
        "                     Jump_strength=2*(1-random.random())\n",
        "                     X1=Rabbit_Location-Escaping_Energy*abs(Jump_strength*Rabbit_Location-X.mean(0))\n",
        "                     X1 = numpy.clip(X1, lb, ub)\n",
        "                     \n",
        "                     if objf(X1)< fitness: # improved move?\n",
        "                        X[i,:] = X1.copy()\n",
        "                     else: # Perform levy-based short rapid dives around the rabbit\n",
        "                         X2=Rabbit_Location-Escaping_Energy*abs(Jump_strength*Rabbit_Location-X.mean(0))+numpy.multiply(numpy.random.randn(dim),Levy(dim))\n",
        "                         X2 = numpy.clip(X2, lb, ub)\n",
        "                         if objf(X2)< fitness:\n",
        "                            X[i,:] = X2.copy()\n",
        "                \n",
        "        convergence_curve[t]=Rabbit_Energy\n",
        "        if (t%1==0):\n",
        "               print(['At iteration '+ str(t)+ ' the best fitness is '+ str(Rabbit_Energy)])\n",
        "        t=t+1\n",
        "    \n",
        "    timerEnd=time.time()  \n",
        "    s.endTime=time.strftime(\"%Y-%m-%d-%H-%M-%S\")\n",
        "    s.executionTime=timerEnd-timerStart\n",
        "    s.convergence=convergence_curve\n",
        "    s.optimizer=\"HHO\"   \n",
        "    s.objfname=objf.__name__\n",
        "    s.best =Rabbit_Energy \n",
        "    s.bestIndividual = Rabbit_Location\n",
        "    \n",
        "    \n",
        "    \n",
        "    return s"
      ],
      "metadata": {
        "id": "8hPSg70dnPkA"
      },
      "execution_count": null,
      "outputs": []
    },
    {
      "cell_type": "code",
      "source": [
        "def Levy(dim):\n",
        "    beta=1.5\n",
        "    sigma=(math.gamma(1+beta)*math.sin(math.pi*beta/2)/(math.gamma((1+beta)/2)*beta*2**((beta-1)/2)))**(1/beta) \n",
        "    u= 0.01*numpy.random.randn(dim)*sigma\n",
        "    v = numpy.random.randn(dim)\n",
        "    zz = numpy.power(numpy.absolute(v),(1/beta))\n",
        "    step = numpy.divide(u,zz)\n",
        "    return step"
      ],
      "metadata": {
        "id": "fRElbFLonll0"
      },
      "execution_count": null,
      "outputs": []
    }
  ]
}